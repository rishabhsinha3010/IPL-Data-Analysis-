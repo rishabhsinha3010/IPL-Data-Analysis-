{
 "cells": [
  {
   "cell_type": "code",
   "execution_count": 2,
   "id": "e807e8c0",
   "metadata": {},
   "outputs": [
    {
     "name": "stdout",
     "output_type": "stream",
     "text": [
      "Defaulting to user installation because normal site-packages is not writeable\n",
      "Requirement already satisfied: pandasai in c:\\users\\risha\\appdata\\roaming\\python\\python311\\site-packages (2.3.0)\n",
      "Requirement already satisfied: astor<0.9.0,>=0.8.1 in c:\\users\\risha\\appdata\\roaming\\python\\python311\\site-packages (from pandasai) (0.8.1)\n",
      "Requirement already satisfied: duckdb<2.0.0,>=1.0.0 in c:\\users\\risha\\appdata\\roaming\\python\\python311\\site-packages (from pandasai) (1.3.2)\n",
      "Requirement already satisfied: faker<20.0.0,>=19.12.0 in c:\\users\\risha\\appdata\\roaming\\python\\python311\\site-packages (from pandasai) (19.13.0)\n",
      "Requirement already satisfied: jinja2<4.0.0,>=3.1.3 in c:\\users\\risha\\appdata\\roaming\\python\\python311\\site-packages (from pandasai) (3.1.6)\n",
      "Requirement already satisfied: matplotlib<4.0.0,>=3.7.1 in c:\\users\\risha\\appdata\\roaming\\python\\python311\\site-packages (from pandasai) (3.10.3)\n",
      "Requirement already satisfied: openai<2 in c:\\users\\risha\\appdata\\roaming\\python\\python311\\site-packages (from pandasai) (1.98.0)\n",
      "Requirement already satisfied: pandas==1.5.3 in c:\\users\\risha\\appdata\\roaming\\python\\python311\\site-packages (from pandasai) (1.5.3)\n",
      "Requirement already satisfied: pillow<11.0.0,>=10.1.0 in c:\\users\\risha\\appdata\\roaming\\python\\python311\\site-packages (from pandasai) (10.4.0)\n",
      "Requirement already satisfied: pydantic<3,>=1 in c:\\users\\risha\\appdata\\roaming\\python\\python311\\site-packages (from pandasai) (1.10.22)\n",
      "Requirement already satisfied: python-dotenv<2.0.0,>=1.0.0 in c:\\users\\risha\\appdata\\roaming\\python\\python311\\site-packages (from pandasai) (1.0.0)\n",
      "Requirement already satisfied: requests<3.0.0,>=2.31.0 in c:\\users\\risha\\appdata\\roaming\\python\\python311\\site-packages (from pandasai) (2.32.3)\n",
      "Requirement already satisfied: scipy<2.0.0,>=1.9.0 in c:\\users\\risha\\appdata\\roaming\\python\\python311\\site-packages (from pandasai) (1.16.1)\n",
      "Requirement already satisfied: sqlalchemy<3,>=1.4 in c:\\users\\risha\\appdata\\roaming\\python\\python311\\site-packages (from pandasai) (2.0.9)\n",
      "Requirement already satisfied: sqlglot<26.0.0,>=25.0.3 in c:\\users\\risha\\appdata\\roaming\\python\\python311\\site-packages (from sqlglot[rs]<26.0.0,>=25.0.3->pandasai) (25.34.1)\n",
      "Requirement already satisfied: python-dateutil>=2.8.1 in c:\\users\\risha\\appdata\\roaming\\python\\python311\\site-packages (from pandas==1.5.3->pandasai) (2.8.2)\n",
      "Requirement already satisfied: pytz>=2020.1 in c:\\users\\risha\\appdata\\roaming\\python\\python311\\site-packages (from pandas==1.5.3->pandasai) (2023.3)\n",
      "Requirement already satisfied: numpy>=1.21.0 in c:\\users\\risha\\appdata\\roaming\\python\\python311\\site-packages (from pandas==1.5.3->pandasai) (1.26.4)\n",
      "Requirement already satisfied: MarkupSafe>=2.0 in c:\\users\\risha\\appdata\\roaming\\python\\python311\\site-packages (from jinja2<4.0.0,>=3.1.3->pandasai) (3.0.2)\n",
      "Requirement already satisfied: contourpy>=1.0.1 in c:\\users\\risha\\appdata\\roaming\\python\\python311\\site-packages (from matplotlib<4.0.0,>=3.7.1->pandasai) (1.3.3)\n",
      "Requirement already satisfied: cycler>=0.10 in c:\\users\\risha\\appdata\\roaming\\python\\python311\\site-packages (from matplotlib<4.0.0,>=3.7.1->pandasai) (0.12.1)\n",
      "Requirement already satisfied: fonttools>=4.22.0 in c:\\users\\risha\\appdata\\roaming\\python\\python311\\site-packages (from matplotlib<4.0.0,>=3.7.1->pandasai) (4.59.0)\n",
      "Requirement already satisfied: kiwisolver>=1.3.1 in c:\\users\\risha\\appdata\\roaming\\python\\python311\\site-packages (from matplotlib<4.0.0,>=3.7.1->pandasai) (1.4.8)\n",
      "Requirement already satisfied: packaging>=20.0 in c:\\users\\risha\\appdata\\roaming\\python\\python311\\site-packages (from matplotlib<4.0.0,>=3.7.1->pandasai) (24.2)\n",
      "Requirement already satisfied: pyparsing>=2.3.1 in c:\\users\\risha\\appdata\\roaming\\python\\python311\\site-packages (from matplotlib<4.0.0,>=3.7.1->pandasai) (3.2.3)\n",
      "Requirement already satisfied: anyio<5,>=3.5.0 in c:\\users\\risha\\appdata\\roaming\\python\\python311\\site-packages (from openai<2->pandasai) (4.9.0)\n",
      "Requirement already satisfied: distro<2,>=1.7.0 in c:\\users\\risha\\appdata\\roaming\\python\\python311\\site-packages (from openai<2->pandasai) (1.9.0)\n",
      "Requirement already satisfied: httpx<1,>=0.23.0 in c:\\users\\risha\\appdata\\roaming\\python\\python311\\site-packages (from openai<2->pandasai) (0.28.1)\n",
      "Requirement already satisfied: jiter<1,>=0.4.0 in c:\\users\\risha\\appdata\\roaming\\python\\python311\\site-packages (from openai<2->pandasai) (0.10.0)\n",
      "Requirement already satisfied: sniffio in c:\\users\\risha\\appdata\\roaming\\python\\python311\\site-packages (from openai<2->pandasai) (1.3.1)\n",
      "Requirement already satisfied: tqdm>4 in c:\\users\\risha\\appdata\\roaming\\python\\python311\\site-packages (from openai<2->pandasai) (4.67.1)\n",
      "Requirement already satisfied: typing-extensions<5,>=4.11 in c:\\users\\risha\\appdata\\roaming\\python\\python311\\site-packages (from openai<2->pandasai) (4.12.2)\n",
      "Requirement already satisfied: idna>=2.8 in c:\\users\\risha\\appdata\\roaming\\python\\python311\\site-packages (from anyio<5,>=3.5.0->openai<2->pandasai) (3.10)\n",
      "Requirement already satisfied: certifi in c:\\users\\risha\\appdata\\roaming\\python\\python311\\site-packages (from httpx<1,>=0.23.0->openai<2->pandasai) (2025.1.31)\n",
      "Requirement already satisfied: httpcore==1.* in c:\\users\\risha\\appdata\\roaming\\python\\python311\\site-packages (from httpx<1,>=0.23.0->openai<2->pandasai) (1.0.9)\n",
      "Requirement already satisfied: h11>=0.16 in c:\\users\\risha\\appdata\\roaming\\python\\python311\\site-packages (from httpcore==1.*->httpx<1,>=0.23.0->openai<2->pandasai) (0.16.0)\n",
      "Requirement already satisfied: charset-normalizer<4,>=2 in c:\\users\\risha\\appdata\\roaming\\python\\python311\\site-packages (from requests<3.0.0,>=2.31.0->pandasai) (3.4.1)\n",
      "Requirement already satisfied: urllib3<3,>=1.21.1 in c:\\users\\risha\\appdata\\roaming\\python\\python311\\site-packages (from requests<3.0.0,>=2.31.0->pandasai) (2.3.0)\n",
      "Requirement already satisfied: greenlet!=0.4.17 in c:\\users\\risha\\appdata\\roaming\\python\\python311\\site-packages (from sqlalchemy<3,>=1.4->pandasai) (3.2.3)\n",
      "Requirement already satisfied: sqlglotrs==0.3.0 in c:\\users\\risha\\appdata\\roaming\\python\\python311\\site-packages (from sqlglot[rs]<26.0.0,>=25.0.3->pandasai) (0.3.0)\n",
      "Requirement already satisfied: six>=1.5 in c:\\users\\risha\\appdata\\roaming\\python\\python311\\site-packages (from python-dateutil>=2.8.1->pandas==1.5.3->pandasai) (1.16.0)\n",
      "Requirement already satisfied: colorama in c:\\users\\risha\\appdata\\roaming\\python\\python311\\site-packages (from tqdm>4->openai<2->pandasai) (0.4.6)\n"
     ]
    }
   ],
   "source": [
    "!pip install pandasai"
   ]
  },
  {
   "cell_type": "code",
   "execution_count": 7,
   "id": "362ca4fe",
   "metadata": {},
   "outputs": [
    {
     "name": "stdout",
     "output_type": "stream",
     "text": [
      "Defaulting to user installation because normal site-packages is not writeable\n",
      "Note: you may need to restart the kernel to use updated packages.\n"
     ]
    },
    {
     "name": "stderr",
     "output_type": "stream",
     "text": [
      "ERROR: Could not find a version that satisfies the requirement yaml (from versions: none)\n",
      "ERROR: No matching distribution found for yaml\n"
     ]
    }
   ],
   "source": [
    "pip install yaml"
   ]
  },
  {
   "cell_type": "code",
   "execution_count": null,
   "id": "acba7e8b",
   "metadata": {},
   "outputs": [
    {
     "ename": "ModuleNotFoundError",
     "evalue": "No module named 'yaml'",
     "output_type": "error",
     "traceback": [
      "\u001b[31m---------------------------------------------------------------------------\u001b[39m",
      "\u001b[31mModuleNotFoundError\u001b[39m                       Traceback (most recent call last)",
      "\u001b[36mCell\u001b[39m\u001b[36m \u001b[39m\u001b[32mIn[1]\u001b[39m\u001b[32m, line 2\u001b[39m\n\u001b[32m      1\u001b[39m \u001b[38;5;28;01mimport\u001b[39;00m\u001b[38;5;250m \u001b[39m\u001b[34;01mpandas\u001b[39;00m\u001b[38;5;250m \u001b[39m\u001b[38;5;28;01mas\u001b[39;00m\u001b[38;5;250m \u001b[39m\u001b[34;01mpd\u001b[39;00m\n\u001b[32m----> \u001b[39m\u001b[32m2\u001b[39m \u001b[38;5;28;01mimport\u001b[39;00m\u001b[38;5;250m \u001b[39m\u001b[34;01myaml\u001b[39;00m\n\u001b[32m      3\u001b[39m \u001b[38;5;28;01mfrom\u001b[39;00m\u001b[38;5;250m \u001b[39m\u001b[34;01mpandasai\u001b[39;00m\u001b[38;5;250m \u001b[39m\u001b[38;5;28;01mimport\u001b[39;00m SmartDataframe\n\u001b[32m      4\u001b[39m \u001b[38;5;28;01mfrom\u001b[39;00m\u001b[38;5;250m \u001b[39m\u001b[34;01mpandasai\u001b[39;00m\u001b[34;01m.\u001b[39;00m\u001b[34;01mllm\u001b[39;00m\u001b[34;01m.\u001b[39;00m\u001b[34;01mopenai\u001b[39;00m\u001b[38;5;250m \u001b[39m\u001b[38;5;28;01mimport\u001b[39;00m OpenAI\n",
      "\u001b[31mModuleNotFoundError\u001b[39m: No module named 'yaml'"
     ]
    }
   ],
   "source": [
    "import pandas as pd\n",
    "from pandasai import SmartDataframe\n",
    "from pandasai.llm.openai import OpenAI"
   ]
  }
 ],
 "metadata": {
  "kernelspec": {
   "display_name": "Python 3",
   "language": "python",
   "name": "python3"
  },
  "language_info": {
   "codemirror_mode": {
    "name": "ipython",
    "version": 3
   },
   "file_extension": ".py",
   "mimetype": "text/x-python",
   "name": "python",
   "nbconvert_exporter": "python",
   "pygments_lexer": "ipython3",
   "version": "3.11.4"
  }
 },
 "nbformat": 4,
 "nbformat_minor": 5
}
